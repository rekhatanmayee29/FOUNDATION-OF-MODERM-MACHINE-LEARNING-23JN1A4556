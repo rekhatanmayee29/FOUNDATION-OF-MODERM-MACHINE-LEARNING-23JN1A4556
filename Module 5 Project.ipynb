{
  "nbformat": 4,
  "nbformat_minor": 0,
  "metadata": {
    "colab": {
      "provenance": [],
      "include_colab_link": true
    },
    "kernelspec": {
      "name": "python3",
      "display_name": "Python 3"
    },
    "language_info": {
      "name": "python"
    }
  },
  "cells": [
    {
      "cell_type": "markdown",
      "metadata": {
        "id": "view-in-github",
        "colab_type": "text"
      },
      "source": [
        "<a href=\"https://colab.research.google.com/github/rekhatanmayee29/FOUNDATION-OF-MODERM-MACHINE-LEARNING-23JN1A4556/blob/main/Module%205%20Project.ipynb\" target=\"_parent\"><img src=\"https://colab.research.google.com/assets/colab-badge.svg\" alt=\"Open In Colab\"/></a>"
      ]
    },
    {
      "cell_type": "code",
      "execution_count": null,
      "metadata": {
        "colab": {
          "base_uri": "https://localhost:8080/",
          "height": 56
        },
        "id": "vOLPzPzWOJv2",
        "outputId": "233e52e4-bc7b-4866-ff4e-ccda3bedcd21"
      },
      "outputs": [
        {
          "output_type": "stream",
          "name": "stdout",
          "text": [
            "Please upload your 'fingerDataSet.pickle' file.\n"
          ]
        },
        {
          "output_type": "display_data",
          "data": {
            "text/plain": [
              "<IPython.core.display.HTML object>"
            ],
            "text/html": [
              "\n",
              "     <input type=\"file\" id=\"files-bace0322-f1fe-4372-a5f5-4f631b6d6541\" name=\"files[]\" multiple disabled\n",
              "        style=\"border:none\" />\n",
              "     <output id=\"result-bace0322-f1fe-4372-a5f5-4f631b6d6541\">\n",
              "      Upload widget is only available when the cell has been executed in the\n",
              "      current browser session. Please rerun this cell to enable.\n",
              "      </output>\n",
              "      <script>// Copyright 2017 Google LLC\n",
              "//\n",
              "// Licensed under the Apache License, Version 2.0 (the \"License\");\n",
              "// you may not use this file except in compliance with the License.\n",
              "// You may obtain a copy of the License at\n",
              "//\n",
              "//      http://www.apache.org/licenses/LICENSE-2.0\n",
              "//\n",
              "// Unless required by applicable law or agreed to in writing, software\n",
              "// distributed under the License is distributed on an \"AS IS\" BASIS,\n",
              "// WITHOUT WARRANTIES OR CONDITIONS OF ANY KIND, either express or implied.\n",
              "// See the License for the specific language governing permissions and\n",
              "// limitations under the License.\n",
              "\n",
              "/**\n",
              " * @fileoverview Helpers for google.colab Python module.\n",
              " */\n",
              "(function(scope) {\n",
              "function span(text, styleAttributes = {}) {\n",
              "  const element = document.createElement('span');\n",
              "  element.textContent = text;\n",
              "  for (const key of Object.keys(styleAttributes)) {\n",
              "    element.style[key] = styleAttributes[key];\n",
              "  }\n",
              "  return element;\n",
              "}\n",
              "\n",
              "// Max number of bytes which will be uploaded at a time.\n",
              "const MAX_PAYLOAD_SIZE = 100 * 1024;\n",
              "\n",
              "function _uploadFiles(inputId, outputId) {\n",
              "  const steps = uploadFilesStep(inputId, outputId);\n",
              "  const outputElement = document.getElementById(outputId);\n",
              "  // Cache steps on the outputElement to make it available for the next call\n",
              "  // to uploadFilesContinue from Python.\n",
              "  outputElement.steps = steps;\n",
              "\n",
              "  return _uploadFilesContinue(outputId);\n",
              "}\n",
              "\n",
              "// This is roughly an async generator (not supported in the browser yet),\n",
              "// where there are multiple asynchronous steps and the Python side is going\n",
              "// to poll for completion of each step.\n",
              "// This uses a Promise to block the python side on completion of each step,\n",
              "// then passes the result of the previous step as the input to the next step.\n",
              "function _uploadFilesContinue(outputId) {\n",
              "  const outputElement = document.getElementById(outputId);\n",
              "  const steps = outputElement.steps;\n",
              "\n",
              "  const next = steps.next(outputElement.lastPromiseValue);\n",
              "  return Promise.resolve(next.value.promise).then((value) => {\n",
              "    // Cache the last promise value to make it available to the next\n",
              "    // step of the generator.\n",
              "    outputElement.lastPromiseValue = value;\n",
              "    return next.value.response;\n",
              "  });\n",
              "}\n",
              "\n",
              "/**\n",
              " * Generator function which is called between each async step of the upload\n",
              " * process.\n",
              " * @param {string} inputId Element ID of the input file picker element.\n",
              " * @param {string} outputId Element ID of the output display.\n",
              " * @return {!Iterable<!Object>} Iterable of next steps.\n",
              " */\n",
              "function* uploadFilesStep(inputId, outputId) {\n",
              "  const inputElement = document.getElementById(inputId);\n",
              "  inputElement.disabled = false;\n",
              "\n",
              "  const outputElement = document.getElementById(outputId);\n",
              "  outputElement.innerHTML = '';\n",
              "\n",
              "  const pickedPromise = new Promise((resolve) => {\n",
              "    inputElement.addEventListener('change', (e) => {\n",
              "      resolve(e.target.files);\n",
              "    });\n",
              "  });\n",
              "\n",
              "  const cancel = document.createElement('button');\n",
              "  inputElement.parentElement.appendChild(cancel);\n",
              "  cancel.textContent = 'Cancel upload';\n",
              "  const cancelPromise = new Promise((resolve) => {\n",
              "    cancel.onclick = () => {\n",
              "      resolve(null);\n",
              "    };\n",
              "  });\n",
              "\n",
              "  // Wait for the user to pick the files.\n",
              "  const files = yield {\n",
              "    promise: Promise.race([pickedPromise, cancelPromise]),\n",
              "    response: {\n",
              "      action: 'starting',\n",
              "    }\n",
              "  };\n",
              "\n",
              "  cancel.remove();\n",
              "\n",
              "  // Disable the input element since further picks are not allowed.\n",
              "  inputElement.disabled = true;\n",
              "\n",
              "  if (!files) {\n",
              "    return {\n",
              "      response: {\n",
              "        action: 'complete',\n",
              "      }\n",
              "    };\n",
              "  }\n",
              "\n",
              "  for (const file of files) {\n",
              "    const li = document.createElement('li');\n",
              "    li.append(span(file.name, {fontWeight: 'bold'}));\n",
              "    li.append(span(\n",
              "        `(${file.type || 'n/a'}) - ${file.size} bytes, ` +\n",
              "        `last modified: ${\n",
              "            file.lastModifiedDate ? file.lastModifiedDate.toLocaleDateString() :\n",
              "                                    'n/a'} - `));\n",
              "    const percent = span('0% done');\n",
              "    li.appendChild(percent);\n",
              "\n",
              "    outputElement.appendChild(li);\n",
              "\n",
              "    const fileDataPromise = new Promise((resolve) => {\n",
              "      const reader = new FileReader();\n",
              "      reader.onload = (e) => {\n",
              "        resolve(e.target.result);\n",
              "      };\n",
              "      reader.readAsArrayBuffer(file);\n",
              "    });\n",
              "    // Wait for the data to be ready.\n",
              "    let fileData = yield {\n",
              "      promise: fileDataPromise,\n",
              "      response: {\n",
              "        action: 'continue',\n",
              "      }\n",
              "    };\n",
              "\n",
              "    // Use a chunked sending to avoid message size limits. See b/62115660.\n",
              "    let position = 0;\n",
              "    do {\n",
              "      const length = Math.min(fileData.byteLength - position, MAX_PAYLOAD_SIZE);\n",
              "      const chunk = new Uint8Array(fileData, position, length);\n",
              "      position += length;\n",
              "\n",
              "      const base64 = btoa(String.fromCharCode.apply(null, chunk));\n",
              "      yield {\n",
              "        response: {\n",
              "          action: 'append',\n",
              "          file: file.name,\n",
              "          data: base64,\n",
              "        },\n",
              "      };\n",
              "\n",
              "      let percentDone = fileData.byteLength === 0 ?\n",
              "          100 :\n",
              "          Math.round((position / fileData.byteLength) * 100);\n",
              "      percent.textContent = `${percentDone}% done`;\n",
              "\n",
              "    } while (position < fileData.byteLength);\n",
              "  }\n",
              "\n",
              "  // All done.\n",
              "  yield {\n",
              "    response: {\n",
              "      action: 'complete',\n",
              "    }\n",
              "  };\n",
              "}\n",
              "\n",
              "scope.google = scope.google || {};\n",
              "scope.google.colab = scope.google.colab || {};\n",
              "scope.google.colab._files = {\n",
              "  _uploadFiles,\n",
              "  _uploadFilesContinue,\n",
              "};\n",
              "})(self);\n",
              "</script> "
            ]
          },
          "metadata": {}
        }
      ],
      "source": [
        "import pickle\n",
        "import os\n",
        "from google.colab import files  # For environments like Google Colab\n",
        "\n",
        "# Step 1: Allow file upload\n",
        "print(\"Please upload your 'fingerDataSet.pickle' file.\")\n",
        "uploaded = files.upload()\n",
        "\n",
        "# Step 2: Get the file path and name\n",
        "if uploaded:\n",
        "    file_name = list(uploaded.keys())[0]  # Get the uploaded file name\n",
        "    print(f\"File '{file_name}' uploaded successfully!\")\n",
        "\n",
        "    # Step 3: Load the file using pickle\n",
        "    try:\n",
        "        with open(file_name, \"rb\") as infile:\n",
        "            dat = pickle.load(infile, encoding=\"bytes\")\n",
        "        print(\"File loaded successfully!\")\n",
        "\n",
        "        # Step 4: Inspect the first data entry\n",
        "        print(\"Keys in the first data entry:\", dat[0].keys())\n",
        "    except Exception as e:\n",
        "        print(f\"An error occurred while loading the file: {e}\")\n",
        "else:\n",
        "    print(\"No file uploaded. Please try again.\")\n"
      ]
    },
    {
      "cell_type": "code",
      "source": [
        "def highlightPoints(img, pts, color = \"yellow\"):\n",
        "    draw = ImageDraw.Draw(img)\n",
        "    for y, x in pts:\n",
        "        draw.point((x, y), fill = color)\n",
        "imDat = dat[50]\n",
        "for key, item in imDat.items():\n",
        "    try:\n",
        "        print(key, type(item), item.shape)\n",
        "    except:\n",
        "        print(key, type(item), item)"
      ],
      "metadata": {
        "id": "-RLbT5TlRj4U"
      },
      "execution_count": null,
      "outputs": []
    },
    {
      "cell_type": "code",
      "source": [
        "import pickle\n",
        "import numpy as np\n",
        "from PIL import Image, ImageDraw  # Ensure ImageDraw is imported\n",
        "import matplotlib.pyplot as plt\n",
        "from matplotlib.pyplot import imshow\n",
        "\n",
        "# Assuming the dataset is already loaded into `dat`\n",
        "try:\n",
        "    # Extract data for index 32\n",
        "    imDat = dat[32]\n",
        "\n",
        "    # Convert the cropped image into a PIL Image and ensure it's in RGB mode\n",
        "    img = Image.fromarray(imDat[b'croppedImage'])\n",
        "    img = img.convert(mode=\"RGB\")\n",
        "\n",
        "    # Compute new finger points relative to the bounding box\n",
        "    newFingerPoints = [\n",
        "        (y - min(imDat[b\"box\"][:, 0]), x - min(imDat[b\"box\"][:, 1]))\n",
        "        for y, x in imDat[b\"allFingerPoints\"]\n",
        "    ]\n",
        "\n",
        "    # Define the `highlightPoints` function\n",
        "    def highlightPoints(image, points, color=\"yellow\"):\n",
        "        draw = ImageDraw.Draw(image)\n",
        "        for x, y in points:\n",
        "            r = 5  # Radius for the circle around points\n",
        "            draw.ellipse((x - r, y - r, x + r, y + r), fill=color)\n",
        "\n",
        "    # Highlight new finger points\n",
        "    highlightPoints(img, newFingerPoints)\n",
        "\n",
        "    # Display the image using Matplotlib\n",
        "    imshow(img)\n",
        "    plt.gcf().set_dpi(70)\n",
        "    plt.show()\n",
        "\n",
        "except KeyError as e:\n",
        "    print(f\"KeyError: {e}. Ensure the dataset contains the expected keys.\")\n",
        "except IndexError as e:\n",
        "    print(f\"IndexError: {e}. Ensure the dataset contains at least 33 elements.\")\n",
        "except Exception as e:\n",
        "    print(f\"An unexpected error occurred: {e}\")\n"
      ],
      "metadata": {
        "id": "E5WKKz6-UWPq"
      },
      "execution_count": null,
      "outputs": []
    },
    {
      "cell_type": "code",
      "source": [
        "FILTER = 11\n",
        "class PointDat:\n",
        "    def __init__(self, imgAr, isFinger : bool, coor = None, idx = None):\n",
        "        self.imgAr = imgAr\n",
        "        self.isFinger = isFinger\n",
        "        self.idx = idx\n",
        "        self.coor = coor\n",
        "\n",
        "    def __str__(self):\n",
        "        return \"Coors {} on idx {}\".format(self.coor, self.idx)\n",
        "\n",
        "    def data(self):\n",
        "        return self.imgAr.reshape(-1)\n",
        "\n",
        "    def getPointGrid(self):\n",
        "        return self.imgAr\n",
        "\n",
        "    def getBoolean(self):\n",
        "        return self.isFinger\n",
        "\n",
        "    def getCoors(self):\n",
        "        return self.coor\n",
        "def highlightPoints(img, pts, color = \"yellow\"):\n",
        "    draw = ImageDraw.Draw(img)\n",
        "    for y, x in pts:\n",
        "        draw.point((x, y), fill = color)\n",
        "\n",
        "class ImgDat:\n",
        "    def __init__(self, dat, idx = None):\n",
        "        self.idx = idx\n",
        "        self.fullImage = dat[b\"image\"]\n",
        "        self.box = dat[b\"box\"]\n",
        "        self.topLeft = (int(min(dat[b\"box\"][:, 0])), int(min(dat[b\"box\"][:, 1])))\n",
        "        self.bottomRight = (int(max(dat[b\"box\"][:, 0])), int(max(dat[b\"box\"][:, 1])))\n",
        "\n",
        "        self.bitImage = dat[b\"image1bit\"][self.topLeft[0]:self.bottomRight[0], self.topLeft[1]:self.bottomRight[1]]\n",
        "        self.numFingers = dat[b\"numFingers\"]\n",
        "        self.boundImage = dat[b\"croppedImage\"]\n",
        "\n",
        "        self.fingerPoints = [(p1 - self.topLeft[0], p2 - self.topLeft[1]) for p1, p2 in dat[b\"allFingerPoints\"]]\n",
        "\n",
        "    def showImage(self):\n",
        "        img = Image.fromarray(self.boundImage)\n",
        "        img = img.convert(mode = \"RGB\")\n",
        "        return img\n",
        "\n",
        "    def showFingers(self):\n",
        "        COLS = [\"orange\", \"pink\", \"lime\"]\n",
        "        img = Image.fromarray(self.boundImage)\n",
        "        img = img.convert(mode = \"RGB\")\n",
        "        highlightPoints(img, self.fingerPoints, COLS[self.numFingers - 1])\n",
        "        return img\n",
        "\n",
        "    def showFullImage(self):\n",
        "        img = Image.fromarray(self.fullImage)\n",
        "        img = img.convert(mode = \"RGB\")\n",
        "        highlightPoints(img, self.box, \"yellow\")\n",
        "        return img\n",
        "\n",
        "    def makePointsDataset(self):\n",
        "        F = FILTER//2\n",
        "\n",
        "        collection = []\n",
        "        for r in range(F, self.bitImage.shape[0] - F):\n",
        "            for c in range(F, self.bitImage.shape[1] - F):\n",
        "#                 collection.append([self.bitImage[r-F:r+F, c-F:c+F], (r, c) in self.fingerPoints, (r, c)])\n",
        "                collection.append(PointDat(self.bitImage[r - F : r + F+1, c - F: c + F+1], (r, c) in self.fingerPoints, (r, c),\\\n",
        "                                            self.idx))\n",
        "\n",
        "        return np.array(collection, dtype=object)\n",
        "\n",
        "\n",
        "sampleIndices = [0, 10, 52, 30, 40]\n",
        "fig, axs = plt.subplots(5, 3, figsize=(8, 16), gridspec_kw={'width_ratios': [3, 1, 1]})\n",
        "for r in range(5):\n",
        "    p = ImgDat(dat[sampleIndices[r]], sampleIndices[r])\n",
        "    axs[r][0].imshow(p.showFullImage())\n",
        "    axs[r][1].imshow(p.showImage())\n",
        "    axs[r][2].imshow(p.showFingers())\n",
        "fig.set_dpi(100)"
      ],
      "metadata": {
        "id": "O0MKrrr9Uulw"
      },
      "execution_count": null,
      "outputs": []
    },
    {
      "cell_type": "code",
      "source": [
        "p = ImgDat(dat[52], 52)\n",
        "d = p.makePointsDataset()\n",
        "posPoints = [point for point in d if point.getBoolean()]\n",
        "negPoints = [point for point in d if not point.getBoolean()]"
      ],
      "metadata": {
        "id": "g7GtFGDTU3TI"
      },
      "execution_count": null,
      "outputs": []
    },
    {
      "cell_type": "markdown",
      "source": [
        "#**Positive Datapoints for grids that are finger points**"
      ],
      "metadata": {
        "id": "w9iGZ-BYU_7h"
      }
    },
    {
      "cell_type": "code",
      "source": [
        "np.random.seed(0)\n",
        "fig, axs = plt.subplots(3, 5, figsize=(15, 9))\n",
        "for ax in axs:\n",
        "    for a in ax:\n",
        "        point = np.random.choice(posPoints)\n",
        "        a.imshow(point.getPointGrid())\n",
        "        a.title.set_text(str(point))\n",
        "        a.set_xticks([FILTER//2])\n",
        "        a.set_yticks([FILTER//2])"
      ],
      "metadata": {
        "id": "dpnFpYs_VMlj"
      },
      "execution_count": null,
      "outputs": []
    },
    {
      "cell_type": "markdown",
      "source": [
        "#**Negative Datapoints for grids that are not finger points**"
      ],
      "metadata": {
        "id": "oZ-G3a9uVZU1"
      }
    },
    {
      "cell_type": "code",
      "source": [
        "np.random.seed(0)\n",
        "fig, axs = plt.subplots(3, 5, figsize=(15, 9))\n",
        "for ax in axs:\n",
        "    for a in ax:\n",
        "        point = np.random.choice(negPoints)\n",
        "        a.imshow(point.getPointGrid())\n",
        "        a.title.set_text(str(point))\n",
        "        a.set_xticks([FILTER//2])\n",
        "        a.set_yticks([FILTER//2])\n"
      ],
      "metadata": {
        "id": "AzN9MsP-VjO-"
      },
      "execution_count": null,
      "outputs": []
    },
    {
      "cell_type": "markdown",
      "source": [
        "#**Creating a method to cluster the points together and predict the number of fingers based on the number of clusters**"
      ],
      "metadata": {
        "id": "sKIECrk0Vt6l"
      }
    },
    {
      "cell_type": "code",
      "source": [
        "def singleton(cls, *args, **kw):\n",
        "    instances = {}\n",
        "    def _singleton(*args, **kw):\n",
        "        if cls not in instances:\n",
        "            instances[cls] = cls(*args, **kw)\n",
        "        return instances[cls]\n",
        "    return _singleton\n",
        "\n",
        "@singleton\n",
        "class fingersFromPoints:\n",
        "\n",
        "    def findAdjacent(self, coordinates, coordinate, cluster):\n",
        "        distances = np.sqrt(np.sum((coordinates-coordinate)**2,1))\n",
        "        newCoordIndices = np.where(np.logical_and(distances<1.3, distances >0))[0]\n",
        "\n",
        "        for newCoordIndex in newCoordIndices:\n",
        "            if newCoordIndex not in cluster:\n",
        "                cluster.append(newCoordIndex)\n",
        "                self.findAdjacent(coordinates, coordinates[newCoordIndex, :], cluster)\n",
        "\n",
        "    def findClusters(self, coordinates):\n",
        "        allIndices = np.arange(len(coordinates))\n",
        "        clusters = []\n",
        "\n",
        "        while len(allIndices) > 0:\n",
        "\n",
        "            cluster = [allIndices[0]]\n",
        "            self.findAdjacent(coordinates, coordinates[allIndices[0],:], cluster)\n",
        "            allIndices = np.setdiff1d(allIndices, np.array((cluster)))\n",
        "            clusters.append(cluster)\n",
        "\n",
        "        return clusters\n",
        "\n",
        "    def findClusterCoors(self, coors):\n",
        "\n",
        "        clusters = self.findClusters(coors)\n",
        "        newClus = []\n",
        "        for c in clusters:\n",
        "            temp = []\n",
        "            for idx in c:\n",
        "                temp.append(coors[idx])\n",
        "            newClus.append(temp)\n",
        "        return newClus\n",
        "\n",
        "    def countFingers(self, clusters, minFingerSize = 15, fingerCutoff = 0.5):\n",
        "        sizes = []\n",
        "        for cluster in clusters:\n",
        "            sizes.append(len(cluster))\n",
        "\n",
        "        sizes = np.array(sizes)\n",
        "\n",
        "        if len(sizes) > 0:\n",
        "            if np.max(sizes) > minFingerSize:\n",
        "                fingerCluster = np.argmax(sizes)\n",
        "                numFingers = sum(sizes>fingerCutoff*sizes[fingerCluster])\n",
        "            else:\n",
        "                numFingers = 0\n",
        "        else:\n",
        "            numFingers = 0\n",
        "\n",
        "        return numFingers\n",
        "\n",
        "    def predictNumFingers(self, coors):\n",
        "        newCoors = np.array(coors)\n",
        "        clusters = self.findClusters(newCoors)\n",
        "        #print(clusters)\n",
        "        return self.countFingers(clusters)"
      ],
      "metadata": {
        "id": "3ZAsrN3EV0X8"
      },
      "execution_count": null,
      "outputs": []
    },
    {
      "cell_type": "markdown",
      "source": [
        "#**Checking if the clustering is working with a datapoint**"
      ],
      "metadata": {
        "id": "KZ050vxrWDFN"
      }
    },
    {
      "cell_type": "code",
      "source": [
        "predObj = fingersFromPoints()\n",
        "\n",
        "imgObj = ImgDat(dat[52], 52)\n",
        "\n",
        "assert imgObj.numFingers == predObj.predictNumFingers(imgObj.fingerPoints), \"Clustering has failed for the dataimage \\\n",
        "with index {}. Something is wrong! {} is being predicted instead of {})\".format(imgObj.idx, predObj.predictNumFingers(imgObj.fingerPoints),\\\n",
        "                                                                               imgObj.numFingers)"
      ],
      "metadata": {
        "id": "hOKDSsUuWIP0"
      },
      "execution_count": null,
      "outputs": []
    },
    {
      "cell_type": "markdown",
      "source": [
        "#**Checking the accuracy over all the datapoints**"
      ],
      "metadata": {
        "id": "CmAhq0zSWwGv"
      }
    },
    {
      "cell_type": "code",
      "source": [
        "cor, tot = 0, 0\n",
        "incor = []\n",
        "for idx, d in enumerate(dat):\n",
        "    imgObj = ImgDat(d, idx)\n",
        "    if imgObj.numFingers == predObj.predictNumFingers(imgObj.fingerPoints):\n",
        "        cor += 1\n",
        "    else:\n",
        "        incor.append(imgObj)\n",
        "    tot += 1\n",
        "\n",
        "print(\"The Clustering is correct for: {:.2f} % of the datapoints' ground truth\".format(cor * 100 / tot))"
      ],
      "metadata": {
        "id": "0cz0xG1RW1dP"
      },
      "execution_count": null,
      "outputs": []
    },
    {
      "cell_type": "code",
      "source": [
        "print(len(incor))"
      ],
      "metadata": {
        "id": "DQTADkXqW6xE"
      },
      "execution_count": null,
      "outputs": []
    },
    {
      "cell_type": "markdown",
      "source": [
        "#**Let us examine on why are two of the input images are clustered incorrectly**"
      ],
      "metadata": {
        "id": "sehPGFhFXPdy"
      }
    },
    {
      "cell_type": "code",
      "source": [
        "fig, axs = plt.subplots(2, 3, figsize = (12, 10))\n",
        "incorIndices = []\n",
        "for idx, (ax, imObj) in enumerate(zip(axs, incor)):\n",
        "    print(\"Incorrect for {}\".format(imObj.idx))\n",
        "    incorIndices.append(imObj.idx)\n",
        "    ax[0].imshow(imObj.showImage())\n",
        "    ax[1].imshow(imObj.showFingers())\n",
        "    img = imObj.showImage()\n",
        "    clusters = predObj.findClusterCoors(np.array(imObj.fingerPoints))\n",
        "    COLS = [\"green\", \"red\", \"blue\", \"yello\", \"orange\", \"pink\"]\n",
        "    for idx2, c in enumerate(clusters):\n",
        "        highlightPoints(img, c, COLS[idx2])\n",
        "    ax[2].imshow(img)"
      ],
      "metadata": {
        "id": "JXQMHGSYXV-m"
      },
      "execution_count": null,
      "outputs": []
    },
    {
      "cell_type": "code",
      "source": [
        "allImg = [ImgDat(d, idx) for idx, d in enumerate(dat)]\n",
        "from sklearn.model_selection import train_test_split\n",
        "trainImg, testImg = train_test_split(allImg, test_size = 10, train_size = 44, random_state = 0)"
      ],
      "metadata": {
        "id": "yWSVTBKcXeyr"
      },
      "execution_count": null,
      "outputs": []
    },
    {
      "cell_type": "code",
      "source": [
        "!pip install tqdm  # Install the tqdm library\n",
        "from tqdm import tqdm # Import the tqdm function\n",
        "\n",
        "trainPoints = np.array([], dtype=object)\n",
        "for imgObj in tqdm(trainImg):\n",
        "    trainPoints = np.append(trainPoints, imgObj.makePointsDataset())"
      ],
      "metadata": {
        "id": "vns6RmI5Xj1N"
      },
      "execution_count": null,
      "outputs": []
    },
    {
      "cell_type": "code",
      "source": [
        "X_train, y_train = np.array([p.data() for p in trainPoints]), np.array([p.getBoolean() for p in trainPoints])"
      ],
      "metadata": {
        "id": "YgoM-l7IboCd"
      },
      "execution_count": null,
      "outputs": []
    },
    {
      "cell_type": "code",
      "source": [
        "X_train.shape, y_train.shape"
      ],
      "metadata": {
        "id": "Ank4K38hbr9c"
      },
      "execution_count": null,
      "outputs": []
    },
    {
      "cell_type": "code",
      "source": [
        "from sklearn.tree import DecisionTreeClassifier\n",
        "clf = DecisionTreeClassifier(random_state = 0, max_depth = 3)\n",
        "clf.fit(X_train, y_train)"
      ],
      "metadata": {
        "id": "CWGMaVa7bwm4"
      },
      "execution_count": null,
      "outputs": []
    },
    {
      "cell_type": "code",
      "source": [
        "#Training Error in terms of points:\n",
        "from sklearn.metrics import accuracy_score\n",
        "print(\"{:.2f} % of the training points classified correctly\".format(100*accuracy_score(clf.predict(X_train), y_train)))"
      ],
      "metadata": {
        "id": "4s8TqXkwb2FD"
      },
      "execution_count": null,
      "outputs": []
    },
    {
      "cell_type": "markdown",
      "source": [
        "#**Now lets us try it on the 10 test images**"
      ],
      "metadata": {
        "id": "PxN6gdaSb8eE"
      }
    },
    {
      "cell_type": "code",
      "source": [
        "fig, axs = plt.subplots(10, 3, figsize = (9, 50))\n",
        "for idx, imgObj in enumerate(testImg):\n",
        "    testPoints = imgObj.makePointsDataset()\n",
        "    axs[idx][0].imshow(imgObj.showImage())\n",
        "    axs[idx][1].imshow(imgObj.showFingers())\n",
        "\n",
        "    coors = []\n",
        "    for point in testPoints:\n",
        "        if clf.predict([point.data()])[0]:\n",
        "            coors.append(point.getCoors())\n",
        "    clusters = predObj.findClusterCoors(np.array(coors))\n",
        "#     clusters = sorted(clusters, key = lambda c : len(c))\n",
        "#     clusters = clusters[::-1]\n",
        "#     clusters = clusters[:5]\n",
        "    img = imgObj.showImage()\n",
        "    COLS = [\"green\", \"red\", \"blue\", \"yellow\", \"orange\", \"pink\"]\n",
        "    for idx2, c in enumerate(clusters):\n",
        "#         pass\n",
        "        highlightPoints(img, c, COLS[idx2%6])\n",
        "    axs[idx][2].imshow(img)\n",
        "    if predObj.predictNumFingers(coors) == imgObj.numFingers:\n",
        "        print(\"Predicted correctly for idx : {}, the number: {}\".format(imgObj.idx, imgObj.numFingers))\n",
        "    else:\n",
        "        print(\"Predicted incorrectly for idx : {}, the number: {}\".format(imgObj.idx, imgObj.numFingers))\n",
        "#     print(\"Num clusters seen: {}\".format(len(clusters)))\n"
      ],
      "metadata": {
        "id": "-P1zWttScAJO"
      },
      "execution_count": null,
      "outputs": []
    },
    {
      "cell_type": "code",
      "source": [
        "from sklearn import tree\n",
        "fig, ax = plt.subplots(figsize=(20, 7))\n",
        "imgObj = tree.plot_tree(clf, filled=True, ax=ax, impurity=False, proportion=True, rounded=True, fontsize = 10)\n",
        "plt.show()"
      ],
      "metadata": {
        "id": "qJkkOdLGcPwI"
      },
      "execution_count": null,
      "outputs": []
    },
    {
      "cell_type": "code",
      "source": [
        "#Visualizing the decision maker:\n",
        "\n",
        "blank = np.ones((11, 11))\n",
        "img = Image.fromarray(blank)\n",
        "img = img.convert(mode=\"RGB\")\n",
        "\n",
        "imDraw = ImageDraw.Draw(img)\n",
        "imDraw.point((12%11, 12//11), fill = \"red\")\n",
        "imDraw.point((54%11, 54//11), fill = \"red\")\n",
        "imDraw.point((60%11, 60//11), fill = \"green\")\n",
        "plt.imshow(img)"
      ],
      "metadata": {
        "id": "-SUL-u9WcXBS"
      },
      "execution_count": null,
      "outputs": []
    }
  ]
}